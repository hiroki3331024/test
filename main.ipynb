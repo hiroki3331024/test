{
 "cells": [
  {
   "cell_type": "markdown",
   "metadata": {},
   "source": [
    "メインプログラム"
   ]
  },
  {
   "cell_type": "code",
   "execution_count": 5,
   "metadata": {},
   "outputs": [
    {
     "name": "stdout",
     "output_type": "stream",
     "text": [
      "curent_time 2023-12-27 17:26:43.815025\n",
      "next_run_time 2023-12-27 17:27:43.815025\n"
     ]
    },
    {
     "ename": "KeyboardInterrupt",
     "evalue": "",
     "output_type": "error",
     "traceback": [
      "\u001b[0;31m---------------------------------------------------------------------------\u001b[0m",
      "\u001b[0;31mKeyboardInterrupt\u001b[0m                         Traceback (most recent call last)",
      "\u001b[1;32m/Users/kusokiii/Desktop/デジコン開発/main.ipynb セル 2\u001b[0m line \u001b[0;36m3\n\u001b[1;32m     <a href='vscode-notebook-cell:/Users/kusokiii/Desktop/%E3%83%87%E3%82%B8%E3%82%B3%E3%83%B3%E9%96%8B%E7%99%BA/main.ipynb#W1sZmlsZQ%3D%3D?line=34'>35</a>\u001b[0m         pass_db_to_next_program(db_data)\n\u001b[1;32m     <a href='vscode-notebook-cell:/Users/kusokiii/Desktop/%E3%83%87%E3%82%B8%E3%82%B3%E3%83%B3%E9%96%8B%E7%99%BA/main.ipynb#W1sZmlsZQ%3D%3D?line=36'>37</a>\u001b[0m \u001b[39mif\u001b[39;00m \u001b[39m__name__\u001b[39m \u001b[39m==\u001b[39m \u001b[39m\"\u001b[39m\u001b[39m__main__\u001b[39m\u001b[39m\"\u001b[39m:\n\u001b[0;32m---> <a href='vscode-notebook-cell:/Users/kusokiii/Desktop/%E3%83%87%E3%82%B8%E3%82%B3%E3%83%B3%E9%96%8B%E7%99%BA/main.ipynb#W1sZmlsZQ%3D%3D?line=37'>38</a>\u001b[0m     main()\n",
      "\u001b[1;32m/Users/kusokiii/Desktop/デジコン開発/main.ipynb セル 2\u001b[0m line \u001b[0;36m3\n\u001b[1;32m     <a href='vscode-notebook-cell:/Users/kusokiii/Desktop/%E3%83%87%E3%82%B8%E3%82%B3%E3%83%B3%E9%96%8B%E7%99%BA/main.ipynb#W1sZmlsZQ%3D%3D?line=28'>29</a>\u001b[0m \u001b[39m# 次の実行予定時刻まで待機\u001b[39;00m\n\u001b[1;32m     <a href='vscode-notebook-cell:/Users/kusokiii/Desktop/%E3%83%87%E3%82%B8%E3%82%B3%E3%83%B3%E9%96%8B%E7%99%BA/main.ipynb#W1sZmlsZQ%3D%3D?line=29'>30</a>\u001b[0m \u001b[39mwhile\u001b[39;00m datetime\u001b[39m.\u001b[39mdatetime\u001b[39m.\u001b[39mnow() \u001b[39m<\u001b[39m next_run_time:\n\u001b[1;32m     <a href='vscode-notebook-cell:/Users/kusokiii/Desktop/%E3%83%87%E3%82%B8%E3%82%B3%E3%83%B3%E9%96%8B%E7%99%BA/main.ipynb#W1sZmlsZQ%3D%3D?line=30'>31</a>\u001b[0m     \u001b[39m# 10秒スリープ。テスト用で10秒にしているが、運用時は5分とかでよさそう。\u001b[39;00m\n\u001b[0;32m---> <a href='vscode-notebook-cell:/Users/kusokiii/Desktop/%E3%83%87%E3%82%B8%E3%82%B3%E3%83%B3%E9%96%8B%E7%99%BA/main.ipynb#W1sZmlsZQ%3D%3D?line=31'>32</a>\u001b[0m     time\u001b[39m.\u001b[39;49msleep(\u001b[39m10\u001b[39;49m)\n\u001b[1;32m     <a href='vscode-notebook-cell:/Users/kusokiii/Desktop/%E3%83%87%E3%82%B8%E3%82%B3%E3%83%B3%E9%96%8B%E7%99%BA/main.ipynb#W1sZmlsZQ%3D%3D?line=33'>34</a>\u001b[0m \u001b[39m# DBを次のプログラムに渡す。(ここを職人、金さんのプログラムにすればいい)\u001b[39;00m\n\u001b[1;32m     <a href='vscode-notebook-cell:/Users/kusokiii/Desktop/%E3%83%87%E3%82%B8%E3%82%B3%E3%83%B3%E9%96%8B%E7%99%BA/main.ipynb#W1sZmlsZQ%3D%3D?line=34'>35</a>\u001b[0m pass_db_to_next_program(db_data)\n",
      "\u001b[0;31mKeyboardInterrupt\u001b[0m: "
     ]
    }
   ],
   "source": [
    "import pandas as pd\n",
    "import time\n",
    "import datetime\n",
    "\n",
    "# 団体についての情報があDBを読み込む\n",
    "csv_file_path = 'DB.csv'\n",
    "db_data = pd.read_csv(csv_file_path)\n",
    "\n",
    "    \n",
    "# テスト用の関数。(職人、金さんのプログラムに変更する予定)\n",
    "def pass_db_to_next_program(db_data):\n",
    "   \n",
    "    # ここではデモのため、単にデータベースが渡されたことを出力\n",
    "    print(\"Database passed to the next program.\")\n",
    "\n",
    "# メインプログラム\n",
    "def main():\n",
    "    while True:\n",
    "        \n",
    "        # 現在時刻を取得(実際に運用する際、一週目は運用を始める時刻を手入力する。一週目と二週目で条件分岐させる必要がある)\n",
    "        current_time = datetime.datetime.now()\n",
    "        print(\"curent_time\",current_time)\n",
    "        # 次の実行予定時刻を計算（現在時刻から12時間後。）\n",
    "        #next_run_time = current_time + datetime.timedelta(hours=12)\n",
    "        next_run_time = current_time + datetime.timedelta(minutes=1)\n",
    "        print(\"next_run_time\",next_run_time)\n",
    "        \n",
    "    \n",
    "        # 次の実行予定時刻まで待機\n",
    "        while datetime.datetime.now() < next_run_time:\n",
    "            # 10秒スリープ。テスト用で10秒にしているが、運用時は5分とかでよさそう。\n",
    "            time.sleep(10)\n",
    "        \n",
    "        # DBを次のプログラムに渡す。(ここを職人、金さんのプログラムにすればいい)\n",
    "        pass_db_to_next_program(db_data)\n",
    "\n",
    "if __name__ == \"__main__\":\n",
    "    main()"
   ]
  },
  {
   "cell_type": "code",
   "execution_count": 11,
   "metadata": {},
   "outputs": [
    {
     "data": {
      "text/plain": [
       "'https://twitter.com/user1/status/12345'"
      ]
     },
     "execution_count": 11,
     "metadata": {},
     "output_type": "execute_result"
    }
   ],
   "source": [
    "# 二次元配列形式でデータを作成\n",
    "data_array = [\n",
    "    [\"user1\", \"テクノロジー\", \"https://twitter.com/user1/status/12345\"],\n",
    "    [\"user1\", \"テクノロジー\", \"https://twitter.com/user1/status/34567\"],\n",
    "    [\"user2\", \"料理\", \"https://twitter.com/user2/status/23456\"],\n",
    "    [\"user2\", \"料理\", \"https://twitter.com/user2/status/56789\"],\n",
    "    [\"user3\", \"旅行\", \"https://twitter.com/user3/status/45678\"]\n",
    "]\n",
    "\n",
    "data_array[0][2]"
   ]
  }
 ],
 "metadata": {
  "kernelspec": {
   "display_name": "base",
   "language": "python",
   "name": "python3"
  },
  "language_info": {
   "codemirror_mode": {
    "name": "ipython",
    "version": 3
   },
   "file_extension": ".py",
   "mimetype": "text/x-python",
   "name": "python",
   "nbconvert_exporter": "python",
   "pygments_lexer": "ipython3",
   "version": "3.10.9"
  }
 },
 "nbformat": 4,
 "nbformat_minor": 2
}
